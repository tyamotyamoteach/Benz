{
 "cells": [
  {
   "cell_type": "code",
   "execution_count": 166,
   "metadata": {},
   "outputs": [],
   "source": [
    "import numpy as np\n",
    "import pandas as pd\n",
    "import matplotlib.pyplot as plt\n",
    "import seaborn as sns\n",
    "import sklearn\n",
    "from sklearn.model_selection import KFold\n",
    "from sklearn.preprocessing import OneHotEncoder\n",
    "from sklearn.metrics import r2_score\n",
    "from lightgbm import LGBMRegressor\n",
    "from sklearn.linear_model import LinearRegression\n",
    "from sklearn.linear_model import Ridge\n",
    "from sklearn.linear_model import Lasso\n",
    "from sklearn.ensemble import RandomForestRegressor\n",
    "from sklearn.model_selection import GridSearchCV\n",
    "from sklearn.model_selection import learning_curve\n",
    "import datetime\n",
    "import shutil"
   ]
  },
  {
   "cell_type": "code",
   "execution_count": 167,
   "metadata": {},
   "outputs": [],
   "source": [
    "train = pd.read_csv('./data/train.csv')\n",
    "test = pd.read_csv('./data/test.csv')\n",
    "sample = pd.read_csv('./data/sample_submission.csv')"
   ]
  },
  {
   "cell_type": "markdown",
   "metadata": {},
   "source": [
    "モデルの構築"
   ]
  },
  {
   "cell_type": "code",
   "execution_count": 168,
   "metadata": {},
   "outputs": [],
   "source": [
    "X = train.drop(['ID','y'],axis=1)\n",
    "y = train['y']\n",
    "X_test = test.drop(['ID'],axis=1)"
   ]
  },
  {
   "cell_type": "code",
   "execution_count": 169,
   "metadata": {},
   "outputs": [],
   "source": [
    "#オブジェクト型の列をワンホットエンコーディング\n",
    "obj_idx = X.columns[X.dtypes == 'object']\n",
    "encoder = OneHotEncoder(sparse=False,handle_unknown='ignore')\n",
    "X_obj = X.loc[:,obj_idx]\n",
    "X_test_obj = X_test.loc[:,obj_idx]\n",
    "X_obj_encoded = encoder.fit(X_obj)\n",
    "category_array = encoder.get_feature_names_out()\n",
    "\n",
    "X_obj_encoded = encoder.transform(X_obj)\n",
    "X_obj_encoded = pd.DataFrame(data=X_obj_encoded,columns=category_array,dtype='int64')\n",
    "X_test_obj_encoded = encoder.transform(X_test_obj)\n",
    "X_test_obj_encoded = pd.DataFrame(data=X_test_obj_encoded,columns=category_array,dtype='int64')"
   ]
  },
  {
   "cell_type": "code",
   "execution_count": 170,
   "metadata": {},
   "outputs": [],
   "source": [
    "#エンコーディングした列を結合\n",
    "all_idx = X.columns\n",
    "other_idx = all_idx.difference(obj_idx)\n",
    "X_other = X.loc[:,other_idx]\n",
    "X_test_other = X_test.loc[:,other_idx]\n",
    "\n",
    "X = pd.concat([X_obj_encoded,X_other],axis=1)\n",
    "X_test = pd.concat([X_test_obj_encoded,X_test_other],axis=1)"
   ]
  },
  {
   "cell_type": "markdown",
   "metadata": {},
   "source": [
    "テストデータの予測"
   ]
  },
  {
   "cell_type": "code",
   "execution_count": 171,
   "metadata": {},
   "outputs": [],
   "source": [
    "seed=0\n",
    "kf = KFold(n_splits=5,shuffle=True,random_state=seed)\n",
    "\n",
    "model_list = []\n",
    "\n",
    "for train_idx,valid_idx in kf.split(X,y):\n",
    "    X_train,X_valid = X.iloc[train_idx,:],X.iloc[valid_idx,:]\n",
    "    y_train,y_valid = y[train_idx],y[valid_idx]\n",
    "    model = LGBMRegressor()\n",
    "    model.fit(X_train,y_train)\n",
    "    model_list.append(model)"
   ]
  },
  {
   "cell_type": "code",
   "execution_count": 172,
   "metadata": {},
   "outputs": [],
   "source": [
    "model = LGBMRegressor()"
   ]
  },
  {
   "cell_type": "code",
   "execution_count": 173,
   "metadata": {},
   "outputs": [],
   "source": [
    "train_sizes,train_scores,test_scores = learning_curve(\n",
    "    estimator = model,\n",
    "    X = X,\n",
    "    y = y,\n",
    "    cv = kf,\n",
    "    scoring='neg_mean_squared_error'\n",
    ")"
   ]
  },
  {
   "cell_type": "code",
   "execution_count": 174,
   "metadata": {},
   "outputs": [],
   "source": [
    "train_scores = pd.DataFrame(train_scores)\n",
    "train_scores['mean'] = train_scores.iloc[:,0:5].apply('mean',axis=1)\n",
    "train_scores['std'] = train_scores.iloc[:,0:5].apply('std',axis=1)\n",
    "train_scores['lower_bound'] = train_scores['mean'] - train_scores['std']\n",
    "train_scores['upper_bound'] = train_scores['mean'] + train_scores['std']\n",
    "test_scores = pd.DataFrame(test_scores)\n",
    "test_scores['mean'] = test_scores.iloc[:,0:5].apply('mean',axis=1)\n",
    "test_scores['std'] = test_scores.iloc[:,0:5].apply('std',axis=1)\n",
    "test_scores['lower_bound'] = test_scores['mean'] - test_scores['std']\n",
    "test_scores['upper_bound'] = test_scores['mean'] + test_scores['std']"
   ]
  },
  {
   "cell_type": "code",
   "execution_count": 175,
   "metadata": {},
   "outputs": [
    {
     "data": {
      "text/html": [
       "<div>\n",
       "<style scoped>\n",
       "    .dataframe tbody tr th:only-of-type {\n",
       "        vertical-align: middle;\n",
       "    }\n",
       "\n",
       "    .dataframe tbody tr th {\n",
       "        vertical-align: top;\n",
       "    }\n",
       "\n",
       "    .dataframe thead th {\n",
       "        text-align: right;\n",
       "    }\n",
       "</style>\n",
       "<table border=\"1\" class=\"dataframe\">\n",
       "  <thead>\n",
       "    <tr style=\"text-align: right;\">\n",
       "      <th></th>\n",
       "      <th>0</th>\n",
       "      <th>1</th>\n",
       "      <th>2</th>\n",
       "      <th>3</th>\n",
       "      <th>4</th>\n",
       "      <th>mean</th>\n",
       "      <th>std</th>\n",
       "      <th>lower_bound</th>\n",
       "      <th>upper_bound</th>\n",
       "    </tr>\n",
       "  </thead>\n",
       "  <tbody>\n",
       "    <tr>\n",
       "      <th>0</th>\n",
       "      <td>-23.943245</td>\n",
       "      <td>-27.766588</td>\n",
       "      <td>-19.849845</td>\n",
       "      <td>-27.129911</td>\n",
       "      <td>-25.768292</td>\n",
       "      <td>-24.891576</td>\n",
       "      <td>3.176589</td>\n",
       "      <td>-28.068165</td>\n",
       "      <td>-21.714988</td>\n",
       "    </tr>\n",
       "    <tr>\n",
       "      <th>1</th>\n",
       "      <td>-24.622041</td>\n",
       "      <td>-40.495703</td>\n",
       "      <td>-39.416215</td>\n",
       "      <td>-41.317518</td>\n",
       "      <td>-39.405262</td>\n",
       "      <td>-37.051348</td>\n",
       "      <td>6.994372</td>\n",
       "      <td>-44.045720</td>\n",
       "      <td>-30.056976</td>\n",
       "    </tr>\n",
       "    <tr>\n",
       "      <th>2</th>\n",
       "      <td>-27.217231</td>\n",
       "      <td>-38.141994</td>\n",
       "      <td>-37.245219</td>\n",
       "      <td>-36.508023</td>\n",
       "      <td>-37.621720</td>\n",
       "      <td>-35.346837</td>\n",
       "      <td>4.583413</td>\n",
       "      <td>-39.930250</td>\n",
       "      <td>-30.763425</td>\n",
       "    </tr>\n",
       "    <tr>\n",
       "      <th>3</th>\n",
       "      <td>-37.405771</td>\n",
       "      <td>-45.400762</td>\n",
       "      <td>-43.401882</td>\n",
       "      <td>-41.456833</td>\n",
       "      <td>-43.515880</td>\n",
       "      <td>-42.236226</td>\n",
       "      <td>3.039379</td>\n",
       "      <td>-45.275605</td>\n",
       "      <td>-39.196846</td>\n",
       "    </tr>\n",
       "    <tr>\n",
       "      <th>4</th>\n",
       "      <td>-38.581900</td>\n",
       "      <td>-44.338139</td>\n",
       "      <td>-41.634462</td>\n",
       "      <td>-40.335223</td>\n",
       "      <td>-42.731022</td>\n",
       "      <td>-41.524149</td>\n",
       "      <td>2.205540</td>\n",
       "      <td>-43.729689</td>\n",
       "      <td>-39.318609</td>\n",
       "    </tr>\n",
       "  </tbody>\n",
       "</table>\n",
       "</div>"
      ],
      "text/plain": [
       "           0          1          2          3          4       mean       std  \\\n",
       "0 -23.943245 -27.766588 -19.849845 -27.129911 -25.768292 -24.891576  3.176589   \n",
       "1 -24.622041 -40.495703 -39.416215 -41.317518 -39.405262 -37.051348  6.994372   \n",
       "2 -27.217231 -38.141994 -37.245219 -36.508023 -37.621720 -35.346837  4.583413   \n",
       "3 -37.405771 -45.400762 -43.401882 -41.456833 -43.515880 -42.236226  3.039379   \n",
       "4 -38.581900 -44.338139 -41.634462 -40.335223 -42.731022 -41.524149  2.205540   \n",
       "\n",
       "   lower_bound  upper_bound  \n",
       "0   -28.068165   -21.714988  \n",
       "1   -44.045720   -30.056976  \n",
       "2   -39.930250   -30.763425  \n",
       "3   -45.275605   -39.196846  \n",
       "4   -43.729689   -39.318609  "
      ]
     },
     "execution_count": 175,
     "metadata": {},
     "output_type": "execute_result"
    }
   ],
   "source": [
    "train_scores"
   ]
  },
  {
   "cell_type": "code",
   "execution_count": 176,
   "metadata": {},
   "outputs": [
    {
     "data": {
      "text/plain": [
       "0   -24.891576\n",
       "1   -37.051348\n",
       "2   -35.346837\n",
       "3   -42.236226\n",
       "4   -41.524149\n",
       "Name: mean, dtype: float64"
      ]
     },
     "execution_count": 176,
     "metadata": {},
     "output_type": "execute_result"
    }
   ],
   "source": [
    "train_scores['mean']"
   ]
  },
  {
   "cell_type": "code",
   "execution_count": 177,
   "metadata": {},
   "outputs": [
    {
     "data": {
      "image/png": "[encoded data removed]",
      "text/plain": [
       "<Figure size 432x288 with 1 Axes>"
      ]
     },
     "metadata": {
      "needs_background": "light"
     },
     "output_type": "display_data"
    }
   ],
   "source": [
    "fig,ax = plt.subplots()\n",
    "ax.plot(train_sizes,train_scores['mean'],marker='o',label='train_mse')\n",
    "ax.fill_between(train_sizes,train_scores['lower_bound'],train_scores['upper_bound'],alpha=0.1, color='blue')\n",
    "ax.plot(train_sizes,test_scores['mean'],marker='o',label='valid_mse')\n",
    "ax.fill_between(train_sizes,test_scores['lower_bound'],test_scores['upper_bound'],alpha=0.1, color='orange')\n",
    "ax.legend()\n",
    "plt.show()"
   ]
  },
  {
   "cell_type": "code",
   "execution_count": 178,
   "metadata": {},
   "outputs": [
    {
     "data": {
      "text/html": [
       "<div>\n",
       "<style scoped>\n",
       "    .dataframe tbody tr th:only-of-type {\n",
       "        vertical-align: middle;\n",
       "    }\n",
       "\n",
       "    .dataframe tbody tr th {\n",
       "        vertical-align: top;\n",
       "    }\n",
       "\n",
       "    .dataframe thead th {\n",
       "        text-align: right;\n",
       "    }\n",
       "</style>\n",
       "<table border=\"1\" class=\"dataframe\">\n",
       "  <thead>\n",
       "    <tr style=\"text-align: right;\">\n",
       "      <th></th>\n",
       "      <th>model_0</th>\n",
       "      <th>model_1</th>\n",
       "      <th>model_2</th>\n",
       "      <th>model_3</th>\n",
       "      <th>model_4</th>\n",
       "      <th>mean</th>\n",
       "    </tr>\n",
       "  </thead>\n",
       "  <tbody>\n",
       "    <tr>\n",
       "      <th>0</th>\n",
       "      <td>77.861477</td>\n",
       "      <td>78.986143</td>\n",
       "      <td>77.089067</td>\n",
       "      <td>78.326373</td>\n",
       "      <td>78.055206</td>\n",
       "      <td>78.063653</td>\n",
       "    </tr>\n",
       "    <tr>\n",
       "      <th>1</th>\n",
       "      <td>91.900752</td>\n",
       "      <td>92.200403</td>\n",
       "      <td>92.303366</td>\n",
       "      <td>94.444719</td>\n",
       "      <td>93.514640</td>\n",
       "      <td>92.872776</td>\n",
       "    </tr>\n",
       "    <tr>\n",
       "      <th>2</th>\n",
       "      <td>78.849386</td>\n",
       "      <td>78.486650</td>\n",
       "      <td>77.684314</td>\n",
       "      <td>76.959755</td>\n",
       "      <td>77.539814</td>\n",
       "      <td>77.903984</td>\n",
       "    </tr>\n",
       "    <tr>\n",
       "      <th>3</th>\n",
       "      <td>76.430056</td>\n",
       "      <td>74.662548</td>\n",
       "      <td>75.153708</td>\n",
       "      <td>76.278362</td>\n",
       "      <td>75.345961</td>\n",
       "      <td>75.574127</td>\n",
       "    </tr>\n",
       "    <tr>\n",
       "      <th>4</th>\n",
       "      <td>113.237159</td>\n",
       "      <td>113.168987</td>\n",
       "      <td>111.925914</td>\n",
       "      <td>115.154905</td>\n",
       "      <td>113.958187</td>\n",
       "      <td>113.489031</td>\n",
       "    </tr>\n",
       "    <tr>\n",
       "      <th>...</th>\n",
       "      <td>...</td>\n",
       "      <td>...</td>\n",
       "      <td>...</td>\n",
       "      <td>...</td>\n",
       "      <td>...</td>\n",
       "      <td>...</td>\n",
       "    </tr>\n",
       "    <tr>\n",
       "      <th>4204</th>\n",
       "      <td>106.695394</td>\n",
       "      <td>106.964232</td>\n",
       "      <td>106.842579</td>\n",
       "      <td>103.004145</td>\n",
       "      <td>103.444229</td>\n",
       "      <td>105.390116</td>\n",
       "    </tr>\n",
       "    <tr>\n",
       "      <th>4205</th>\n",
       "      <td>93.382693</td>\n",
       "      <td>94.151786</td>\n",
       "      <td>93.279256</td>\n",
       "      <td>94.760613</td>\n",
       "      <td>92.707041</td>\n",
       "      <td>93.656278</td>\n",
       "    </tr>\n",
       "    <tr>\n",
       "      <th>4206</th>\n",
       "      <td>91.319105</td>\n",
       "      <td>93.861480</td>\n",
       "      <td>92.630623</td>\n",
       "      <td>91.732304</td>\n",
       "      <td>92.018066</td>\n",
       "      <td>92.312316</td>\n",
       "    </tr>\n",
       "    <tr>\n",
       "      <th>4207</th>\n",
       "      <td>111.351424</td>\n",
       "      <td>111.261723</td>\n",
       "      <td>109.258027</td>\n",
       "      <td>108.068035</td>\n",
       "      <td>110.836774</td>\n",
       "      <td>110.155197</td>\n",
       "    </tr>\n",
       "    <tr>\n",
       "      <th>4208</th>\n",
       "      <td>90.244690</td>\n",
       "      <td>91.288945</td>\n",
       "      <td>91.102017</td>\n",
       "      <td>89.821667</td>\n",
       "      <td>89.947100</td>\n",
       "      <td>90.480884</td>\n",
       "    </tr>\n",
       "  </tbody>\n",
       "</table>\n",
       "<p>4209 rows × 6 columns</p>\n",
       "</div>"
      ],
      "text/plain": [
       "         model_0     model_1     model_2     model_3     model_4        mean\n",
       "0      77.861477   78.986143   77.089067   78.326373   78.055206   78.063653\n",
       "1      91.900752   92.200403   92.303366   94.444719   93.514640   92.872776\n",
       "2      78.849386   78.486650   77.684314   76.959755   77.539814   77.903984\n",
       "3      76.430056   74.662548   75.153708   76.278362   75.345961   75.574127\n",
       "4     113.237159  113.168987  111.925914  115.154905  113.958187  113.489031\n",
       "...          ...         ...         ...         ...         ...         ...\n",
       "4204  106.695394  106.964232  106.842579  103.004145  103.444229  105.390116\n",
       "4205   93.382693   94.151786   93.279256   94.760613   92.707041   93.656278\n",
       "4206   91.319105   93.861480   92.630623   91.732304   92.018066   92.312316\n",
       "4207  111.351424  111.261723  109.258027  108.068035  110.836774  110.155197\n",
       "4208   90.244690   91.288945   91.102017   89.821667   89.947100   90.480884\n",
       "\n",
       "[4209 rows x 6 columns]"
      ]
     },
     "execution_count": 178,
     "metadata": {},
     "output_type": "execute_result"
    }
   ],
   "source": [
    "y_test_df = pd.DataFrame()\n",
    "\n",
    "for i,model in enumerate(model_list):\n",
    "    y_test = model.predict(X_test)\n",
    "    y_test = pd.Series(y_test,name=f'model_{i}')\n",
    "    y_test_df = pd.concat([y_test_df,y_test],axis=1)\n",
    "\n",
    "y_test_df['mean'] = y_test_df.apply(np.mean,axis=1)\n",
    "y_test_df"
   ]
  },
  {
   "cell_type": "code",
   "execution_count": 179,
   "metadata": {},
   "outputs": [
    {
     "data": {
      "text/plain": [
       "'./submit_files/submit_2022-07-14-13:41:04.csv'"
      ]
     },
     "execution_count": 179,
     "metadata": {},
     "output_type": "execute_result"
    }
   ],
   "source": [
    "submit = pd.concat([test['ID'],y_test_df['mean']],axis=1)\n",
    "submit.columns = ['ID','y']\n",
    "now = datetime.datetime.now().strftime('%Y-%m-%d-%H:%M:%S')\n",
    "submit_filename = f'submit_{now}' + '.csv'\n",
    "submit.to_csv(submit_filename,index=None)\n",
    "shutil.move(submit_filename,'./submit_files')"
   ]
  },
  {
   "cell_type": "code",
   "execution_count": null,
   "metadata": {},
   "outputs": [],
   "source": []
  }
 ],
 "metadata": {
  "interpreter": {
   "hash": "28d8cbc1a3a404ce94ce03a9d807c2b975d9cf1ec216cd6ae4d6274651952609"
  },
  "kernelspec": {
   "display_name": "Python 3.9.10 ('base')",
   "language": "python",
   "name": "python3"
  },
  "language_info": {
   "codemirror_mode": {
    "name": "ipython",
    "version": 3
   },
   "file_extension": ".py",
   "mimetype": "text/x-python",
   "name": "python",
   "nbconvert_exporter": "python",
   "pygments_lexer": "ipython3",
   "version": "3.9.10"
  },
  "orig_nbformat": 4
 },
 "nbformat": 4,
 "nbformat_minor": 2
}
